{
 "cells": [
  {
   "cell_type": "markdown",
   "metadata": {
    "toc": true
   },
   "source": [
    "<h1>Table of Contents<span class=\"tocSkip\"></span></h1>\n",
    "<div class=\"toc\"><ul class=\"toc-item\"><li><span><a href=\"#Sentence-Reversal\" data-toc-modified-id=\"Sentence-Reversal-1\"><span class=\"toc-item-num\">1&nbsp;&nbsp;</span>Sentence Reversal</a></span><ul class=\"toc-item\"><li><span><a href=\"#Problem\" data-toc-modified-id=\"Problem-1.1\"><span class=\"toc-item-num\">1.1&nbsp;&nbsp;</span>Problem</a></span></li><li><span><a href=\"#Solution\" data-toc-modified-id=\"Solution-1.2\"><span class=\"toc-item-num\">1.2&nbsp;&nbsp;</span>Solution</a></span></li></ul></li><li><span><a href=\"#Test-Your-Solution\" data-toc-modified-id=\"Test-Your-Solution-2\"><span class=\"toc-item-num\">2&nbsp;&nbsp;</span>Test Your Solution</a></span><ul class=\"toc-item\"><li><span><a href=\"#Good-Job!\" data-toc-modified-id=\"Good-Job!-2.1\"><span class=\"toc-item-num\">2.1&nbsp;&nbsp;</span>Good Job!</a></span></li></ul></li></ul></div>"
   ]
  },
  {
   "cell_type": "markdown",
   "metadata": {},
   "source": [
    "# Sentence Reversal\n",
    "\n",
    "## Problem\n",
    "\n",
    "Given a string of words, reverse all the words. For example:\n",
    "\n",
    "Given:\n",
    "    \n",
    "    'This is the best'\n",
    "\n",
    "Return:\n",
    "\n",
    "    'best the is This'\n",
    "\n",
    "As part of this exercise you should remove all leading and trailing whitespace. So that inputs such as:\n",
    "\n",
    "    '  space here'  and 'space here      '\n",
    "\n",
    "both become:\n",
    "\n",
    "    'here space'\n",
    "\n",
    "## Solution\n",
    "\n",
    "Fill out your solution below:"
   ]
  },
  {
   "cell_type": "code",
   "execution_count": 43,
   "metadata": {},
   "outputs": [],
   "source": [
    "def rev_word(s):\n",
    "    s = s.split()\n",
    "    z = [s[-n] for n in range(-len(s)+1, 1)]\n",
    "    return \" \".join(z)"
   ]
  },
  {
   "cell_type": "code",
   "execution_count": 48,
   "metadata": {},
   "outputs": [],
   "source": [
    "def rev_word2(s):\n",
    "    return \" \".join(s.split()[::-1])"
   ]
  },
  {
   "cell_type": "code",
   "execution_count": 108,
   "metadata": {},
   "outputs": [],
   "source": [
    "def rev_word3(s):\n",
    "    if s[0]==\" \": i=1 # if the sentence starts with space\n",
    "    else: i=0\n",
    "    s+=\" \" # we add to list when we observe space, if we dont observe space at the end we will miss last word \n",
    "    new_s = \"\"\n",
    "    words = []\n",
    "    for let in s: \n",
    "        if let==\" \":\n",
    "            if i==1:pass # current letter is space and if we just observed space pass it\n",
    "            else: \n",
    "                i=1 # if the current let is space but we didnt observe a space just before then it is the end of a word\n",
    "                words.append(new_s) # Thus we append the word to the list\n",
    "                new_s = \"\" # and reset the word since new word will start\n",
    "        else:\n",
    "            new_s+=let # if we didnt observe space then it means we didnt get to end of word thus keep adding to word\n",
    "            i=0 # identifier of if we observed space or not\n",
    "    new_words = [words[-n] for n in range(-len(words)+1, 1)] # revert the list without using python tricks\n",
    "    reversed_sent = \"\"\n",
    "    for word in new_words: # Join reverted list without using join()\n",
    "        reversed_sent += word + \" \"\n",
    "    \n",
    "    return reversed_sent[:-1] # last element is a space\n",
    "        \n",
    "    "
   ]
  },
  {
   "cell_type": "code",
   "execution_count": 61,
   "metadata": {},
   "outputs": [],
   "source": [
    "sent = 'Hi John,   are you ready to go?'"
   ]
  },
  {
   "cell_type": "code",
   "execution_count": 96,
   "metadata": {},
   "outputs": [
    {
     "data": {
      "text/plain": [
       "'go? to ready you are John, Hi'"
      ]
     },
     "execution_count": 96,
     "metadata": {},
     "output_type": "execute_result"
    }
   ],
   "source": [
    "rev_word('Hi John,   are you ready to go?')"
   ]
  },
  {
   "cell_type": "code",
   "execution_count": 95,
   "metadata": {},
   "outputs": [
    {
     "data": {
      "text/plain": [
       "'to ready you are John, Hi'"
      ]
     },
     "execution_count": 95,
     "metadata": {},
     "output_type": "execute_result"
    }
   ],
   "source": [
    "rev_word3('Hi John,   are you ready to go?')"
   ]
  },
  {
   "cell_type": "code",
   "execution_count": 109,
   "metadata": {},
   "outputs": [
    {
     "name": "stdout",
     "output_type": "stream",
     "text": [
      "\n",
      "\n",
      "\n",
      "\n",
      "s\n",
      "sp\n",
      "spa\n",
      "spac\n",
      "space\n",
      "\n",
      "b\n",
      "be\n",
      "bef\n",
      "befo\n",
      "befor\n",
      "before\n"
     ]
    },
    {
     "data": {
      "text/plain": [
       "'space'"
      ]
     },
     "execution_count": 109,
     "metadata": {},
     "output_type": "execute_result"
    }
   ],
   "source": [
    "rev_word3('    space before')"
   ]
  },
  {
   "cell_type": "markdown",
   "metadata": {},
   "source": [
    "_____"
   ]
  },
  {
   "cell_type": "markdown",
   "metadata": {},
   "source": [
    "# Test Your Solution"
   ]
  },
  {
   "cell_type": "code",
   "execution_count": 89,
   "metadata": {},
   "outputs": [
    {
     "name": "stdout",
     "output_type": "stream",
     "text": [
      "ALL TEST CASES PASSED\n"
     ]
    }
   ],
   "source": [
    "\"\"\"\n",
    "RUN THIS CELL TO TEST YOUR SOLUTION\n",
    "\"\"\"\n",
    "\n",
    "from nose.tools import assert_equal\n",
    "\n",
    "class ReversalTest(object):\n",
    "    \n",
    "    def test(self,sol):\n",
    "        assert_equal(sol('    space before'),'before space')\n",
    "        assert_equal(sol('space after     '),'after space')\n",
    "        assert_equal(sol('   Hello John    how are you   '),'you are how John Hello')\n",
    "        assert_equal(sol('1'),'1')\n",
    "        print(\"ALL TEST CASES PASSED\")\n",
    "        \n",
    "# Run and test\n",
    "t = ReversalTest()\n",
    "t.test(rev_word3)"
   ]
  },
  {
   "cell_type": "markdown",
   "metadata": {},
   "source": [
    "## Good Job!"
   ]
  }
 ],
 "metadata": {
  "kernelspec": {
   "display_name": "Python 3",
   "language": "python",
   "name": "python3"
  },
  "language_info": {
   "codemirror_mode": {
    "name": "ipython",
    "version": 3
   },
   "file_extension": ".py",
   "mimetype": "text/x-python",
   "name": "python",
   "nbconvert_exporter": "python",
   "pygments_lexer": "ipython3",
   "version": "3.7.9"
  },
  "toc": {
   "base_numbering": 1,
   "nav_menu": {},
   "number_sections": true,
   "sideBar": true,
   "skip_h1_title": false,
   "title_cell": "Table of Contents",
   "title_sidebar": "Contents",
   "toc_cell": true,
   "toc_position": {},
   "toc_section_display": true,
   "toc_window_display": false
  }
 },
 "nbformat": 4,
 "nbformat_minor": 1
}

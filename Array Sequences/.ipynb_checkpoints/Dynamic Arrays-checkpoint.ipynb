{
 "cells": [
  {
   "cell_type": "markdown",
   "metadata": {
    "toc": true
   },
   "source": [
    "<h1>Table of Contents<span class=\"tocSkip\"></span></h1>\n",
    "<div class=\"toc\"><ul class=\"toc-item\"><li><span><a href=\"#Dynamic-Arrays\" data-toc-modified-id=\"Dynamic-Arrays-1\"><span class=\"toc-item-num\">1&nbsp;&nbsp;</span>Dynamic Arrays</a></span><ul class=\"toc-item\"><li><span><a href=\"#My-notes-on-dynamic-arrays\" data-toc-modified-id=\"My-notes-on-dynamic-arrays-1.1\"><span class=\"toc-item-num\">1.1&nbsp;&nbsp;</span>My notes on dynamic arrays</a></span></li><li><span><a href=\"#Please-refer-to-the-video-lecture-for-the-remaining-information.\" data-toc-modified-id=\"Please-refer-to-the-video-lecture-for-the-remaining-information.-1.2\"><span class=\"toc-item-num\">1.2&nbsp;&nbsp;</span>Please refer to the video lecture for the remaining information.</a></span></li><li><span><a href=\"#The-section-consists-mostly-of-video-explanations-not-well-suited-for-Jupyter-Notebooks.\" data-toc-modified-id=\"The-section-consists-mostly-of-video-explanations-not-well-suited-for-Jupyter-Notebooks.-1.3\"><span class=\"toc-item-num\">1.3&nbsp;&nbsp;</span>The section consists mostly of video explanations not well-suited for Jupyter Notebooks.</a></span></li></ul></li><li><span><a href=\"#Thanks!\" data-toc-modified-id=\"Thanks!-2\"><span class=\"toc-item-num\">2&nbsp;&nbsp;</span>Thanks!</a></span></li></ul></div>"
   ]
  },
  {
   "cell_type": "markdown",
   "metadata": {},
   "source": [
    "# Dynamic Arrays\n",
    "____\n"
   ]
  },
  {
   "cell_type": "markdown",
   "metadata": {},
   "source": [
    "## My notes on dynamic arrays"
   ]
  },
  {
   "cell_type": "markdown",
   "metadata": {},
   "source": [
    " - In python we dont need to specify the size of the array beforehand\n",
    " - This is because a list in python have greater capacity than actual size of it\n",
    " - Dynamic typed languages do not require the explicit declaration of the variables before they're used. That is we do not need to spare memory for the variables before they are actually used"
   ]
  },
  {
   "cell_type": "markdown",
   "metadata": {
    "collapsed": true
   },
   "source": [
    "## Please refer to the video lecture for the remaining information.\n",
    "## The section consists mostly of video explanations not well-suited for Jupyter Notebooks.\n",
    "# Thanks!"
   ]
  }
 ],
 "metadata": {
  "kernelspec": {
   "display_name": "Python 3",
   "language": "python",
   "name": "python3"
  },
  "language_info": {
   "codemirror_mode": {
    "name": "ipython",
    "version": 3
   },
   "file_extension": ".py",
   "mimetype": "text/x-python",
   "name": "python",
   "nbconvert_exporter": "python",
   "pygments_lexer": "ipython3",
   "version": "3.7.9"
  },
  "toc": {
   "base_numbering": 1,
   "nav_menu": {},
   "number_sections": true,
   "sideBar": true,
   "skip_h1_title": false,
   "title_cell": "Table of Contents",
   "title_sidebar": "Contents",
   "toc_cell": true,
   "toc_position": {},
   "toc_section_display": true,
   "toc_window_display": false
  }
 },
 "nbformat": 4,
 "nbformat_minor": 1
}

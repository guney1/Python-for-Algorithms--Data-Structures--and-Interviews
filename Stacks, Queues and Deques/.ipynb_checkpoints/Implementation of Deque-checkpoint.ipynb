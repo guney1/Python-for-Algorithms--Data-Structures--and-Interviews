{
 "cells": [
  {
   "cell_type": "markdown",
   "metadata": {
    "toc": true
   },
   "source": [
    "<h1>Table of Contents<span class=\"tocSkip\"></span></h1>\n",
    "<div class=\"toc\"><ul class=\"toc-item\"><li><span><a href=\"#Implementation-of-Deque\" data-toc-modified-id=\"Implementation-of-Deque-1\"><span class=\"toc-item-num\">1&nbsp;&nbsp;</span>Implementation of Deque</a></span><ul class=\"toc-item\"><li><span><a href=\"#Methods-and-Attributes\" data-toc-modified-id=\"Methods-and-Attributes-1.1\"><span class=\"toc-item-num\">1.1&nbsp;&nbsp;</span>Methods and Attributes</a></span></li><li><span><a href=\"#Deque-Implementation\" data-toc-modified-id=\"Deque-Implementation-1.2\"><span class=\"toc-item-num\">1.2&nbsp;&nbsp;</span>Deque Implementation</a></span></li><li><span><a href=\"#Good-Job!\" data-toc-modified-id=\"Good-Job!-1.3\"><span class=\"toc-item-num\">1.3&nbsp;&nbsp;</span>Good Job!</a></span></li></ul></li></ul></div>"
   ]
  },
  {
   "cell_type": "markdown",
   "metadata": {},
   "source": [
    "# Implementation of Deque\n",
    "\n",
    "In this lecture we will implement our own Deque class!\n",
    "\n",
    "## Methods and Attributes\n",
    "\n",
    "* Deque() creates a new deque that is empty. It needs no parameters and returns an empty deque.\n",
    "* addFront(item) adds a new item to the front of the deque. It needs the item and returns nothing.\n",
    "* addRear(item) adds a new item to the rear of the deque. It needs the item and returns nothing.\n",
    "* removeFront() removes the front item from the deque. It needs no parameters and returns the item. The deque is modified.\n",
    "* removeRear() removes the rear item from the deque. It needs no parameters and returns the item. The deque is modified.\n",
    "* isEmpty() tests to see whether the deque is empty. It needs no parameters and returns a boolean value.\n",
    "* size() returns the number of items in the deque. It needs no parameters and returns an integer.\n",
    "\n",
    "## Deque Implementation"
   ]
  },
  {
   "cell_type": "code",
   "execution_count": 1,
   "metadata": {
    "collapsed": true
   },
   "outputs": [],
   "source": [
    "class Deque:\n",
    "    def __init__(self):\n",
    "        self.items = []\n",
    "\n",
    "    def isEmpty(self):\n",
    "        return self.items == []\n",
    "\n",
    "    def addFront(self, item):\n",
    "        self.items.append(item) # functionality from stacks\n",
    "\n",
    "    def addRear(self, item):\n",
    "        self.items.insert(0,item) # functionality from queues\n",
    "\n",
    "    def removeFront(self):\n",
    "        return self.items.pop() \n",
    "\n",
    "    def removeRear(self):\n",
    "        return self.items.pop(0) # having both removeFront and removeRear combines functionality of stacks and queues. Thus there is no FIFO or LIFO priciple here we can remove from either end.\n",
    "\n",
    "    def size(self):\n",
    "        return len(self.items)"
   ]
  },
  {
   "cell_type": "code",
   "execution_count": 10,
   "metadata": {
    "collapsed": true
   },
   "outputs": [],
   "source": [
    "d = Deque()"
   ]
  },
  {
   "cell_type": "code",
   "execution_count": 11,
   "metadata": {
    "collapsed": true
   },
   "outputs": [],
   "source": [
    "d.addFront('hello')"
   ]
  },
  {
   "cell_type": "code",
   "execution_count": 12,
   "metadata": {
    "collapsed": true
   },
   "outputs": [],
   "source": [
    "d.addRear('world')"
   ]
  },
  {
   "cell_type": "code",
   "execution_count": 13,
   "metadata": {},
   "outputs": [
    {
     "data": {
      "text/plain": [
       "2"
      ]
     },
     "execution_count": 13,
     "metadata": {},
     "output_type": "execute_result"
    }
   ],
   "source": [
    "d.size()"
   ]
  },
  {
   "cell_type": "code",
   "execution_count": 14,
   "metadata": {},
   "outputs": [
    {
     "name": "stdout",
     "output_type": "stream",
     "text": [
      "hello world\n"
     ]
    }
   ],
   "source": [
    "print d.removeFront() + ' ' +  d.removeRear()"
   ]
  },
  {
   "cell_type": "code",
   "execution_count": 15,
   "metadata": {},
   "outputs": [
    {
     "data": {
      "text/plain": [
       "0"
      ]
     },
     "execution_count": 15,
     "metadata": {},
     "output_type": "execute_result"
    }
   ],
   "source": [
    "d.size()"
   ]
  },
  {
   "cell_type": "markdown",
   "metadata": {},
   "source": [
    "## Good Job!"
   ]
  }
 ],
 "metadata": {
  "kernelspec": {
   "display_name": "Python 3",
   "language": "python",
   "name": "python3"
  },
  "language_info": {
   "codemirror_mode": {
    "name": "ipython",
    "version": 3
   },
   "file_extension": ".py",
   "mimetype": "text/x-python",
   "name": "python",
   "nbconvert_exporter": "python",
   "pygments_lexer": "ipython3",
   "version": "3.7.9"
  },
  "toc": {
   "base_numbering": 1,
   "nav_menu": {},
   "number_sections": true,
   "sideBar": true,
   "skip_h1_title": false,
   "title_cell": "Table of Contents",
   "title_sidebar": "Contents",
   "toc_cell": true,
   "toc_position": {},
   "toc_section_display": true,
   "toc_window_display": false
  }
 },
 "nbformat": 4,
 "nbformat_minor": 1
}
